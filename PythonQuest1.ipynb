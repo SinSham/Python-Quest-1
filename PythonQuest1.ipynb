{
  "nbformat": 4,
  "nbformat_minor": 0,
  "metadata": {
    "colab": {
      "provenance": [],
      "authorship_tag": "ABX9TyPFzwnTbPPD8Bzv3g0s9t4O",
      "include_colab_link": true
    },
    "kernelspec": {
      "name": "python3",
      "display_name": "Python 3"
    },
    "language_info": {
      "name": "python"
    }
  },
  "cells": [
    {
      "cell_type": "markdown",
      "metadata": {
        "id": "view-in-github",
        "colab_type": "text"
      },
      "source": [
        "<a href=\"https://colab.research.google.com/github/SinSham/Python-Quest-1/blob/main/PythonQuest1.ipynb\" target=\"_parent\"><img src=\"https://colab.research.google.com/assets/colab-badge.svg\" alt=\"Open In Colab\"/></a>"
      ]
    },
    {
      "cell_type": "markdown",
      "source": [
        "sorting the list of heterogeneous data"
      ],
      "metadata": {
        "id": "DK6ptZPJ3sBM"
      }
    },
    {
      "cell_type": "code",
      "execution_count": 13,
      "metadata": {
        "colab": {
          "base_uri": "https://localhost:8080/"
        },
        "id": "oW6DMP4W3dvh",
        "outputId": "f3bc134d-d8f3-4e14-ed3d-446995a18fb6"
      },
      "outputs": [
        {
          "output_type": "stream",
          "name": "stdout",
          "text": [
            "Original List: ['Ram', 1, 'Shyam', 2, 'Aman', 3]\n",
            "Sorted List: [1, 2, 3, 'Aman', 'Ram', 'Shyam']\n"
          ]
        }
      ],
      "source": [
        "L = [\"Ram\", 1, \"Shyam\", 2, \"Aman\", 3]\n",
        "print(\"Original List:\", L)\n",
        "\n",
        "Ls = []\n",
        "Li = []\n",
        "\n",
        "for element in L:\n",
        "  if(isinstance(element, str)):\n",
        "    Ls.append(element)\n",
        "\n",
        "  else:\n",
        "    Li.append(element) \n",
        "\n",
        "\n",
        "Li.sort()\n",
        "Ls.sort()\n",
        "L_sorted = Li\n",
        "L_sorted.extend(Ls)\n",
        "\n",
        "print(\"Sorted List:\", L_sorted)"
      ]
    }
  ]
}